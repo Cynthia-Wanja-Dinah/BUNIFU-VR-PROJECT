{
  "nbformat": 4,
  "nbformat_minor": 0,
  "metadata": {
    "colab": {
      "provenance": [],
      "authorship_tag": "ABX9TyNKtrHUwx2e8GT9DrCsNRlm",
      "include_colab_link": true
    },
    "kernelspec": {
      "name": "python3",
      "display_name": "Python 3"
    },
    "language_info": {
      "name": "python"
    }
  },
  "cells": [
    {
      "cell_type": "markdown",
      "metadata": {
        "id": "view-in-github",
        "colab_type": "text"
      },
      "source": [
        "<a href=\"https://colab.research.google.com/github/Cynthia-Wanja-Dinah/BUNIFU-VR-PROJECT/blob/main/Assignments_on_Variables.ipynb\" target=\"_parent\"><img src=\"https://colab.research.google.com/assets/colab-badge.svg\" alt=\"Open In Colab\"/></a>"
      ]
    },
    {
      "cell_type": "markdown",
      "source": [
        "Lists are ordered, mutable, and can contain duplicates.\n",
        "\n",
        "Tuples are ordered, immutable, and can contain duplicates.\n",
        "\n",
        "Sets are unordered, mutable, do not allow duplicates, and are not indexable.\n"
      ],
      "metadata": {
        "id": "3BaxTKgv3QEF"
      }
    },
    {
      "cell_type": "code",
      "source": [
        "#distinguishing between a tuple a list and a set\n",
        "my_list=[1,2,3,4,5]\n",
        "my_tuple=(1,2,3,4,5)\n",
        "my_set={1,2,3,4,5}\n",
        "print(type(my_list))\n",
        "print(type(my_tuple))\n",
        "print(type(my_set))"
      ],
      "metadata": {
        "colab": {
          "base_uri": "https://localhost:8080/"
        },
        "id": "Awo3nUzl4501",
        "outputId": "1fbe90d9-b48a-43c7-cece-494fdc7c6586"
      },
      "execution_count": 6,
      "outputs": [
        {
          "output_type": "stream",
          "name": "stdout",
          "text": [
            "<class 'list'>\n",
            "<class 'tuple'>\n",
            "<class 'set'>\n"
          ]
        }
      ]
    },
    {
      "cell_type": "code",
      "execution_count": 1,
      "metadata": {
        "colab": {
          "base_uri": "https://localhost:8080/"
        },
        "id": "j0QBF1aS2QhU",
        "outputId": "e3c2da37-7c1b-4c18-fdb4-15e2544257b2"
      },
      "outputs": [
        {
          "output_type": "stream",
          "name": "stdout",
          "text": [
            "The number is odd\n"
          ]
        }
      ],
      "source": [
        "#Assignment 1\n",
        "#Determining if a   number is  odd and even\n",
        "num=9\n",
        "if num%2==0:\n",
        "  print(\" The number isEven\")\n",
        "else:\n",
        "  print(\"The number is odd\")\n"
      ]
    },
    {
      "cell_type": "code",
      "source": [
        "#creating a list of countries\n",
        "countries=['Kenya','Tanzania','Uganda','Rwanda','Burundi']\n",
        "print(countries)\n",
        "countries.append('Ethiopia')\n",
        "print(countries)\n",
        "countries.insert(0,'Somalia')\n",
        "print(countries)\n",
        "countries.remove('Tanzania')\n",
        "print(countries)"
      ],
      "metadata": {
        "colab": {
          "base_uri": "https://localhost:8080/"
        },
        "id": "X51QQvKg36mz",
        "outputId": "3dbf5dfb-26df-4fd9-ff7c-048bedbbf791"
      },
      "execution_count": 3,
      "outputs": [
        {
          "output_type": "stream",
          "name": "stdout",
          "text": [
            "['Kenya', 'Tanzania', 'Uganda', 'Rwanda', 'Burundi']\n",
            "['Kenya', 'Tanzania', 'Uganda', 'Rwanda', 'Burundi', 'Ethiopia']\n",
            "['Somalia', 'Kenya', 'Tanzania', 'Uganda', 'Rwanda', 'Burundi', 'Ethiopia']\n",
            "['Somalia', 'Kenya', 'Uganda', 'Rwanda', 'Burundi', 'Ethiopia']\n"
          ]
        }
      ]
    },
    {
      "cell_type": "code",
      "source": [
        "#checking if a given number is negative positive or even\n",
        "x=9\n",
        "if x<0:\n",
        "  print(\"The number is negative\")\n",
        "elif x>0:\n",
        "  print(\"The number is positive\")\n",
        "else:\n",
        "  print(\"The number is zero\")\n",
        "if x%2==0:\n",
        "  print(\"The number is even\")"
      ],
      "metadata": {
        "colab": {
          "base_uri": "https://localhost:8080/"
        },
        "id": "ggIcjNEd4rJ8",
        "outputId": "8cb69a39-4137-490e-822a-fbfa743577ed"
      },
      "execution_count": 4,
      "outputs": [
        {
          "output_type": "stream",
          "name": "stdout",
          "text": [
            "The number is positive\n"
          ]
        }
      ]
    }
  ]
}